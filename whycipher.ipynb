{
 "cells": [
  {
   "metadata": {},
   "cell_type": "markdown",
   "source": "# Import libraries",
   "id": "a23f021103ffe6bc"
  },
  {
   "cell_type": "code",
   "id": "137b2c13-4c44-460a-9dac-34e096007aed",
   "metadata": {
    "ExecuteTime": {
     "end_time": "2024-09-20T06:14:50.972679Z",
     "start_time": "2024-09-20T06:14:50.907618Z"
    }
   },
   "source": [
    "import numpy as np\n",
    "import timeit\n",
    "import secrets\n",
    "def timeitdec(func):\n",
    "    def wrapper(*args, **kwargs):\n",
    "        start_time = timeit.default_timer()\n",
    "        result = func(*args, **kwargs)\n",
    "        end_time = timeit.default_timer()\n",
    "        elapsed_time = end_time - start_time\n",
    "        print(\"Function {} took {:.6f} seconds to execute.\".format(func.__name__, elapsed_time))\n",
    "        return result\n",
    "    return wrapper\n"
   ],
   "outputs": [],
   "execution_count": 1
  },
  {
   "metadata": {},
   "cell_type": "markdown",
   "source": "# Key generation fun",
   "id": "3bd7888ca7dd7827"
  },
  {
   "cell_type": "code",
   "id": "804926b4-75de-4694-a559-16ca7c884612",
   "metadata": {
    "ExecuteTime": {
     "end_time": "2024-09-19T18:06:24.982272Z",
     "start_time": "2024-09-19T18:06:24.980042Z"
    }
   },
   "source": [
    "@timeitdec\n",
    "def generate_key(length: int = 1024) -> np.ndarray:\n",
    "    key = secrets.token_bytes(10 * (length // 8))\n",
    "    return np.unpackbits(np.frombuffer(key, dtype=np.uint8))[:10 * length].reshape(10, length)"
   ],
   "outputs": [],
   "execution_count": 57
  },
  {
   "metadata": {},
   "cell_type": "markdown",
   "source": "# Creating cipher alg",
   "id": "9d952ed0966dd502"
  },
  {
   "metadata": {
    "ExecuteTime": {
     "end_time": "2024-09-19T18:06:25.032046Z",
     "start_time": "2024-09-19T18:06:25.026810Z"
    }
   },
   "cell_type": "code",
   "source": [
    "@timeitdec\n",
    "def whycipher(content: str, axkey: np.ndarray) -> str:\n",
    "    iv = secrets.token_bytes(10)\n",
    "    iv_bits = np.unpackbits(np.frombuffer(iv, dtype=np.uint8)).tolist()\n",
    "    result = []\n",
    "    for i, char in enumerate(content):\n",
    "        key_index = i % 10\n",
    "        binary_str = ''.join(map(str, axkey[key_index]))\n",
    "        xor_input = int(binary_str, 2) ^ int(''.join(map(str, iv_bits[key_index * 8:(key_index + 1) * 8])), 2)\n",
    "        ciphered_char = ord(char) ^ xor_input\n",
    "        result.append(hex(ciphered_char)[2:].zfill(2))\n",
    "    iv_hex = '|'.join(hex(byte)[2:].zfill(2) for byte in iv)\n",
    "    return \"|\" + iv_hex + \"|\" + '|'.join(result) + '|'"
   ],
   "id": "8edad93030820971",
   "outputs": [],
   "execution_count": 58
  },
  {
   "metadata": {},
   "cell_type": "markdown",
   "source": "# Creating decipher alg",
   "id": "e9cd1c0eb0f3a856"
  },
  {
   "metadata": {
    "ExecuteTime": {
     "end_time": "2024-09-19T18:06:25.083845Z",
     "start_time": "2024-09-19T18:06:25.075767Z"
    }
   },
   "cell_type": "code",
   "source": [
    "@timeitdec\n",
    "def dewhycipher(content: str, axkey: np.ndarray) -> str:\n",
    "    parts = content.strip('|').split('|')\n",
    "    iv = bytes(int(parts[i], 16) for i in range(0, 10))\n",
    "    nums = parts[10:]\n",
    "    iv_bits = np.unpackbits(np.frombuffer(iv, dtype=np.uint8)).tolist()\n",
    "\n",
    "    result = []\n",
    "    for i, num in enumerate(nums):\n",
    "        if num:\n",
    "            key_index = i % 10\n",
    "            binary_str = ''.join(map(str, axkey[key_index]))\n",
    "            xor_input = int(binary_str, 2) ^ int(''.join(map(str, iv_bits[key_index * 8:(key_index + 1) * 8])), 2)\n",
    "            deciphered_char = int(num, 16) ^ xor_input\n",
    "            if 0 <= deciphered_char <= 255:\n",
    "                result.append(chr(deciphered_char))\n",
    "    return ''.join(result)"
   ],
   "id": "b63fb5f8288c34be",
   "outputs": [],
   "execution_count": 59
  },
  {
   "metadata": {},
   "cell_type": "markdown",
   "source": "# Using: ",
   "id": "92596d341057783"
  },
  {
   "metadata": {
    "ExecuteTime": {
     "end_time": "2024-09-19T18:06:25.168880Z",
     "start_time": "2024-09-19T18:06:25.162351Z"
    }
   },
   "cell_type": "code",
   "source": [
    "key = generate_key()\n",
    "text = \"hello world\"\n",
    "cipher_text = whycipher(text, key)\n",
    "decipher_text = dewhycipher(cipher_text, key)\n",
    "print(cipher_text)\n",
    "print(decipher_text)\n"
   ],
   "id": "f039f12e82daefd9",
   "outputs": [
    {
     "name": "stdout",
     "output_type": "stream",
     "text": [
      "Function generate_key took 0.000411 seconds to execute.\n",
      "Function whycipher took 0.001594 seconds to execute.\n",
      "Function dewhycipher took 0.001482 seconds to execute.\n",
      "|d4|69|4c|95|78|84|e2|d6|71|13|1a285477389ce1a0e114ee1cc9952bf1d4ad432c4582cdaa2bd53a5e14442639fbfc802b26830f0a03dafc7a417c290e112f6b49b87d3580686f5419fca7f9ee3f05104726cd4f7ab2a7e2dbcdfb95082fda6bcd2b336f127dd20bc927e0c5afe6fc140e054c06799e644853b51ba1b45feda1ec9a69ea017cdcfe7b5ffa437c|3166ec5bc3d32ad93be36d4a822a9263a3d1611caac8853b4df31649a73d40a0e2c31c11b4e7d2c7c43311c50e805ca15c19029dcd51011db7720176267b9d905c1ff206ec4059c110f8d61e21a27e74303030613d5a287695995d1a20119a40aba6eef74d68f8b159570e5c4ca472a21f7e499551de27e49260631811131c0|d0de93f32cbdd49cce4e1825c5eca3136d6b883669ae56b196d11cc7c43b72953cd54fb7959dfc16b5d45078fea222d74ec78fd876d58213b802ff6985c78dcd805f0f2d8977ef9a4821edf5a43ad9e7a99e5121dc1a91e873a41e6d1ef4667bd9c5d4a144773ce5506eb7e21c1420b7f3c937f55973df6bf81e893cd60f6ab2|a297a0168b3f26d6ad66b74a2108435470c514dadeb62a790c7d0cbf663b41c3a49feb0f46108bb861caa2f47a640bd482b724d31282782e77afe2f2051c0a49601f37fb04f6a4730caab2f6bd970c8cd2a2a836755ab5ab8ca10ef3ced2cec0968b72a100dfc3af5796adf5099071b479eeb93d3e72d2d3bf88fe0254173500|2973cfa93c813efc630dcaa1443839eaf5e87a8d83da4dc8dfc8d3abb413b3b152694f28a4900aceb1b9f434a1f7e6cd291458b5a2b4d5480cd52df7c70df694f6c085a65f458fa586a74e99ebacc7d2f742ba4693a0dd79b6eded60f264cd0cb549b49fd815e76f51280218735897f8236a39ac3642d1ba8172902eb284e848|f11586891930439c28cc91e89e1e0de7757ba55739f9b72ab2403df34cdec8b4ae4f2ffad5f3ace013d1c8192697bfe5461973deefef5b36841af1653f2d255717298e2add4a357ec4eb484c0a60dbe383e06cfe1dab4505b7a5eb96cfca35c38082f1073adf511d4df8f198259fe3e581d7c84b9fa5f59db044e86b684c4778|7e7ff346b1ecbe168fa046d4b787f218e5fea5e3082899ae0c6d3f6116d5b8fba1225fa2ab1b11ef1e8021d07f4aa5a27a57c930c11c7ad37a7fc3e2af87556e167f7bfc1a791c75b85be759937eef17f13b4d52a0c2a689f8b54585dd471f47308865b3f46199671f862133ecec44dcea5b1b9d163d37591c39755ce27f4bf1|8c077959f9316746f6412198eab327b76161816107d2f8004241cba79e219225c1f96697311c4e8d1245d26a68cfa7accc5372ef42388f5f814ad55af23c4b7f6050e1c7f3b56c5886403667c470f4e152492fd3767760cbd63f9be0d29534363331d102f2040aab91f3b6d10ccfeddfe5136a3bf1e4b6820f1770c0803697a8|2a9e7ca817b1d21b08bb2c41b7b606f958a670677f7efc7340376231ddd31b57200abd01bd77924a26cdf3cb0dd43423f06446630b0d3d7a41a73350804dc1825ff86837c213b708f118289ac8deacdf015af5511245bc6be5badd109834c116aa04b26bc58179141ee984abfc6c914e8b4562caed6128ed88d00328f3d76dd7|c5edc4adf31bb6dc076f39476bf7ba993e8d0ff96493aecf5fb2d5e638ed9d03722fd2ac865bf2e65da9c57cf25426c32d972f1867a89b71b90cb533afb4e08eec5e9ec43f8a015352b1534d14b29dbac12ddd4b0eaaabc4a823053d9dd7158ceb1a741061efd5beac2dfc6de42df23d08e5b5af312262ddd94bdae625b2c2f0|1a285477389ce1a0e114ee1cc9952bf1d4ad432c4582cdaa2bd53a5e14442639fbfc802b26830f0a03dafc7a417c290e112f6b49b87d3580686f5419fca7f9ee3f05104726cd4f7ab2a7e2dbcdfb95082fda6bcd2b336f127dd20bc927e0c5afe6fc140e054c06799e644853b51ba1b45feda1ec9a69ea017cdcfe7b5ffa4370|\n",
      "hello world\n"
     ]
    }
   ],
   "execution_count": 60
  }
 ],
 "metadata": {
  "kernelspec": {
   "display_name": "Python 3 (ipykernel)",
   "language": "python",
   "name": "python3"
  },
  "language_info": {
   "codemirror_mode": {
    "name": "ipython",
    "version": 3
   },
   "file_extension": ".py",
   "mimetype": "text/x-python",
   "name": "python",
   "nbconvert_exporter": "python",
   "pygments_lexer": "ipython3",
   "version": "3.12.6"
  }
 },
 "nbformat": 4,
 "nbformat_minor": 5
}
